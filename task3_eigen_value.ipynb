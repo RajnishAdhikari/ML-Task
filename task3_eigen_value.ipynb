{
 "cells": [
  {
   "cell_type": "code",
   "execution_count": 9,
   "metadata": {},
   "outputs": [
    {
     "name": "stdout",
     "output_type": "stream",
     "text": [
      "Iteration 1: Eigenvalue = 13.333333333333334, Error = 13.333333333333334\n",
      "Iteration 2: Eigenvalue = 40.0, Error = 26.666666666666664\n",
      "Iteration 3: Eigenvalue = 66.66666666666666, Error = 26.666666666666657\n",
      "Iteration 4: Eigenvalue = 68.23529411764706, Error = 1.5686274509804008\n",
      "Iteration 5: Eigenvalue = 68.28282828282828, Error = 0.04753416518121867\n",
      "Iteration 6: Eigenvalue = 68.2842287694974, Error = 0.0014004866691266216\n",
      "Iteration 7: Eigenvalue = 68.28426999702647, Error = 4.122752906710048e-05\n",
      "Iteration 8: Eigenvalue = 68.2842712106525, Error = 1.2136260352235695e-06\n",
      "Iteration 9: Eigenvalue = 68.28427124637832, Error = 3.572581874777825e-08\n",
      "Converged!\n",
      "Largest eigenvalue: 68.28427124637832\n"
     ]
    }
   ],
   "source": [
    "import numpy as np\n",
    "\n",
    "# Define the coefficient matrix A\n",
    "A = np.array([[40, -20, 0],\n",
    "              [-20, 40, -20],\n",
    "              [0, -20, 40]])\n",
    "\n",
    "# Initial guess for the eigenvector\n",
    "v = np.array([1, 1, 1])\n",
    "\n",
    "# Iterate using power iteration method\n",
    "max_iterations = 1000\n",
    "tolerance = 1e-6\n",
    "lambda_prev = 0\n",
    "\n",
    "for i in range(max_iterations):\n",
    "    Av = np.dot(A, v)\n",
    "    v_new = Av / np.linalg.norm(Av)  # Normalize eigenvector\n",
    "    lambda_current = np.dot(Av, v) / np.dot(v, v)\n",
    "    \n",
    "    # Calculate error\n",
    "    error = np.abs(lambda_current - lambda_prev)\n",
    "    \n",
    "    print(f\"Iteration {i+1}: Eigenvalue = {lambda_current}, Error = {error}\")\n",
    "    \n",
    "    # Check for convergence\n",
    "    if error < tolerance:\n",
    "        print(\"Converged!\")\n",
    "        break\n",
    "    \n",
    "    # Update for next iteration\n",
    "    lambda_prev = lambda_current\n",
    "    v = v_new\n",
    "\n",
    "if i == max_iterations - 1:\n",
    "    print(\"Did not converge within maximum iterations.\")\n",
    "\n",
    "print(f\"Largest eigenvalue: {lambda_current}\")\n"
   ]
  },
  {
   "cell_type": "markdown",
   "metadata": {},
   "source": [
    "Here we can see that the error approaches zero, it indicates convergence, meaning the value of λ stabilizes."
   ]
  },
  {
   "cell_type": "markdown",
   "metadata": {},
   "source": [
    "# Computational Significance:\n",
    "\n",
    "\n",
    "* Eigenvalues play a central role in various numerical algorithms and computations. For instance, in machine learning, principal component analysis (PCA) relies on eigenvalues to identify the most important features or dimensions in data. The largest eigenvalue often corresponds to the principal component with the highest variance, capturing the most significant information in the dataset.\n",
    "\n",
    "\n",
    "* In numerical simulations and finite element analysis, eigenvalues help assess the stability and convergence of iterative methods used to solve linear systems of equations. The largest eigenvalue influences the convergence rate and stability of these methods, impacting the efficiency and reliability of numerical computations."
   ]
  },
  {
   "cell_type": "code",
   "execution_count": null,
   "metadata": {},
   "outputs": [],
   "source": []
  }
 ],
 "metadata": {
  "kernelspec": {
   "display_name": "Python 3",
   "language": "python",
   "name": "python3"
  },
  "language_info": {
   "codemirror_mode": {
    "name": "ipython",
    "version": 3
   },
   "file_extension": ".py",
   "mimetype": "text/x-python",
   "name": "python",
   "nbconvert_exporter": "python",
   "pygments_lexer": "ipython3",
   "version": "3.11.2"
  }
 },
 "nbformat": 4,
 "nbformat_minor": 2
}
