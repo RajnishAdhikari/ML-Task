{
 "cells": [
  {
   "cell_type": "code",
   "execution_count": 1,
   "metadata": {},
   "outputs": [
    {
     "name": "stdout",
     "output_type": "stream",
     "text": [
      "WARNING:tensorflow:From c:\\Users\\PC\\AppData\\Local\\Programs\\Python\\Python311\\Lib\\site-packages\\keras\\src\\losses.py:2976: The name tf.losses.sparse_softmax_cross_entropy is deprecated. Please use tf.compat.v1.losses.sparse_softmax_cross_entropy instead.\n",
      "\n",
      "WARNING:tensorflow:From c:\\Users\\PC\\AppData\\Local\\Programs\\Python\\Python311\\Lib\\site-packages\\keras\\src\\backend.py:873: The name tf.get_default_graph is deprecated. Please use tf.compat.v1.get_default_graph instead.\n",
      "\n",
      "WARNING:tensorflow:From c:\\Users\\PC\\AppData\\Local\\Programs\\Python\\Python311\\Lib\\site-packages\\keras\\src\\layers\\pooling\\max_pooling2d.py:161: The name tf.nn.max_pool is deprecated. Please use tf.nn.max_pool2d instead.\n",
      "\n",
      "WARNING:tensorflow:From c:\\Users\\PC\\AppData\\Local\\Programs\\Python\\Python311\\Lib\\site-packages\\keras\\src\\optimizers\\__init__.py:309: The name tf.train.Optimizer is deprecated. Please use tf.compat.v1.train.Optimizer instead.\n",
      "\n",
      "Epoch 1/3\n",
      "WARNING:tensorflow:From c:\\Users\\PC\\AppData\\Local\\Programs\\Python\\Python311\\Lib\\site-packages\\keras\\src\\utils\\tf_utils.py:492: The name tf.ragged.RaggedTensorValue is deprecated. Please use tf.compat.v1.ragged.RaggedTensorValue instead.\n",
      "\n",
      "WARNING:tensorflow:From c:\\Users\\PC\\AppData\\Local\\Programs\\Python\\Python311\\Lib\\site-packages\\keras\\src\\engine\\base_layer_utils.py:384: The name tf.executing_eagerly_outside_functions is deprecated. Please use tf.compat.v1.executing_eagerly_outside_functions instead.\n",
      "\n",
      "1875/1875 [==============================] - 22s 11ms/step - loss: 0.1314 - accuracy: 0.9594 - val_loss: 0.0492 - val_accuracy: 0.9842\n",
      "Epoch 2/3\n",
      "1875/1875 [==============================] - 19s 10ms/step - loss: 0.0446 - accuracy: 0.9862 - val_loss: 0.0406 - val_accuracy: 0.9879\n",
      "Epoch 3/3\n",
      "1875/1875 [==============================] - 19s 10ms/step - loss: 0.0304 - accuracy: 0.9904 - val_loss: 0.0409 - val_accuracy: 0.9869\n",
      "Epoch 1/3\n",
      "1875/1875 [==============================] - 21s 10ms/step - loss: 0.0379 - accuracy: 0.9865 - val_loss: 0.0176 - val_accuracy: 0.9938\n",
      "Epoch 2/3\n",
      "1875/1875 [==============================] - 19s 10ms/step - loss: 0.0167 - accuracy: 0.9946 - val_loss: 0.0149 - val_accuracy: 0.9955\n",
      "Epoch 3/3\n",
      "1875/1875 [==============================] - 19s 10ms/step - loss: 0.0117 - accuracy: 0.9957 - val_loss: 0.0179 - val_accuracy: 0.9941\n",
      "313/313 [==============================] - 2s 5ms/step\n",
      "313/313 [==============================] - 2s 5ms/step\n"
     ]
    }
   ],
   "source": [
    "import tensorflow as tf\n",
    "from tensorflow.keras.datasets import mnist\n",
    "from tensorflow.keras.models import Sequential\n",
    "from tensorflow.keras.layers import Conv2D, MaxPooling2D, Flatten, Dense\n",
    "import matplotlib.pyplot as plt\n",
    "from sklearn.metrics import accuracy_score, precision_score, recall_score, f1_score\n",
    "\n",
    "# Load MNIST dataset\n",
    "(x_train, y_train), (x_test, y_test) = mnist.load_data()\n",
    "\n",
    "# Preprocess data\n",
    "x_train = x_train.reshape(-1, 28, 28, 1) / 255.0\n",
    "x_test = x_test.reshape(-1, 28, 28, 1) / 255.0\n",
    "\n",
    "# Define the CNN encoder for feature extraction\n",
    "encoder = Sequential([\n",
    "    Conv2D(32, (3, 3), activation='relu', input_shape=(28, 28, 1)),\n",
    "    MaxPooling2D((2, 2)),\n",
    "    Conv2D(64, (3, 3), activation='relu'),\n",
    "    MaxPooling2D((2, 2)),\n",
    "    Flatten()\n",
    "])\n",
    "\n",
    "# Define classifier for digit classification\n",
    "classifier_digits = Sequential([\n",
    "    Dense(128, activation='relu'),\n",
    "    Dense(10, activation='softmax')\n",
    "])\n",
    "\n",
    "# Define classifier for odd and even classification\n",
    "classifier_odd_even = Sequential([\n",
    "    Dense(128, activation='relu'),\n",
    "    Dense(1, activation='sigmoid')\n",
    "])\n",
    "\n",
    "# Combine encoder and classifiers\n",
    "model_digits = Sequential([encoder, classifier_digits])\n",
    "model_odd_even = Sequential([encoder, classifier_odd_even])\n",
    "\n",
    "# Compile models\n",
    "model_digits.compile(optimizer='adam', loss='sparse_categorical_crossentropy', metrics=['accuracy'])\n",
    "model_odd_even.compile(optimizer='adam', loss='binary_crossentropy', metrics=['accuracy'])\n",
    "\n",
    "# Train models\n",
    "model_digits.fit(x_train, y_train, epochs=3, validation_data=(x_test, y_test))\n",
    "model_odd_even.fit(x_train, y_train % 2, epochs=3, validation_data=(x_test, y_test % 2))\n",
    "\n",
    "# Evaluate models\n",
    "y_pred_digits = model_digits.predict(x_test)\n",
    "y_pred_digits = tf.argmax(y_pred_digits, axis=1)\n",
    "y_pred_odd_even = (model_odd_even.predict(x_test) > 0.5).astype('int32')\n",
    "\n",
    "\n"
   ]
  },
  {
   "cell_type": "markdown",
   "metadata": {},
   "source": [
    "# Comparision of different Metrics"
   ]
  },
  {
   "cell_type": "markdown",
   "metadata": {},
   "source": [
    "From the various metrices we can conclude that the accuracy is slightly higher in case of Odd-Even classification then in comparision to that of Digit classification. "
   ]
  },
  {
   "cell_type": "code",
   "execution_count": 2,
   "metadata": {},
   "outputs": [
    {
     "name": "stdout",
     "output_type": "stream",
     "text": [
      "Digit Classification Metrics:\n",
      "Accuracy: 0.9879\n",
      "Precision: 0.9879719617217934\n",
      "Recall: 0.9878642920460401\n",
      "F1-score: 0.9878670970401038\n",
      "\n",
      "Odd-Even Classification Metrics:\n",
      "Accuracy: 0.9941\n",
      "Precision: 0.9946735056224107\n",
      "Recall: 0.9936933385888845\n",
      "F1-score: 0.9941831805185843\n"
     ]
    }
   ],
   "source": [
    "# Print metrics for digit classification\n",
    "print(\"Digit Classification Metrics:\")\n",
    "print(f\"Accuracy: {accuracy_score(y_test, y_pred_digits)}\")\n",
    "print(f\"Precision: {precision_score(y_test, y_pred_digits, average='macro')}\")\n",
    "print(f\"Recall: {recall_score(y_test, y_pred_digits, average='macro')}\")\n",
    "print(f\"F1-score: {f1_score(y_test, y_pred_digits, average='macro')}\")\n",
    "\n",
    "# Print metrics for odd-even classification\n",
    "print(\"\\nOdd-Even Classification Metrics:\")\n",
    "print(f\"Accuracy: {accuracy_score(y_test % 2, y_pred_odd_even)}\")\n",
    "print(f\"Precision: {precision_score(y_test % 2, y_pred_odd_even)}\")\n",
    "print(f\"Recall: {recall_score(y_test % 2, y_pred_odd_even)}\")\n",
    "print(f\"F1-score: {f1_score(y_test % 2, y_pred_odd_even)}\")\n"
   ]
  },
  {
   "cell_type": "code",
   "execution_count": 3,
   "metadata": {},
   "outputs": [
    {
     "name": "stdout",
     "output_type": "stream",
     "text": [
      "1/1 [==============================] - 0s 95ms/step\n",
      "1/1 [==============================] - 0s 49ms/step\n"
     ]
    },
    {
     "data": {
      "image/png": "[encoded data removed]",
      "text/plain": [
       "<Figure size 1500x600 with 10 Axes>"
      ]
     },
     "metadata": {},
     "output_type": "display_data"
    }
   ],
   "source": [
    "# Visualize the feature maps\n",
    "sample_images = x_test[:5]  # Get the first 5 test images\n",
    "feature_maps_digit = encoder.predict(sample_images)\n",
    "feature_maps_odd_even = encoder.predict(sample_images)\n",
    "\n",
    "plt.figure(figsize=(15, 6))\n",
    "for i in range(5):\n",
    "    plt.subplot(2, 5, i+1)\n",
    "    plt.imshow(sample_images[i].squeeze(), cmap='gray')\n",
    "    plt.title(f'Digit: {y_test[i]}')\n",
    "    plt.axis('off')\n",
    "\n",
    "for i in range(5):\n",
    "    plt.subplot(2, 5, i+6)\n",
    "    feature_map_reshaped = feature_maps_digit[i].reshape(40, 40)  # Reshape to correct dimensions\n",
    "    plt.imshow(feature_map_reshaped, cmap='viridis')\n",
    "    plt.title(f'Digit: {y_test[i]}')\n",
    "    plt.axis('off')\n",
    "\n",
    "plt.show()\n"
   ]
  },
  {
   "cell_type": "code",
   "execution_count": null,
   "metadata": {},
   "outputs": [],
   "source": []
  }
 ],
 "metadata": {
  "kernelspec": {
   "display_name": "Python 3",
   "language": "python",
   "name": "python3"
  },
  "language_info": {
   "codemirror_mode": {
    "name": "ipython",
    "version": 3
   },
   "file_extension": ".py",
   "mimetype": "text/x-python",
   "name": "python",
   "nbconvert_exporter": "python",
   "pygments_lexer": "ipython3",
   "version": "3.11.2"
  }
 },
 "nbformat": 4,
 "nbformat_minor": 2
}
