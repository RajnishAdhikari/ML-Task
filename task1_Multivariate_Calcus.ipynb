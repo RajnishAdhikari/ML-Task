{
 "cells": [
  {
   "cell_type": "markdown",
   "metadata": {},
   "source": [
    "## Task 1  Multi-variate Calculus "
   ]
  },
  {
   "cell_type": "code",
   "execution_count": null,
   "metadata": {},
   "outputs": [],
   "source": [
    "import time\n",
    "\n",
    "# Define a simple random number generator\n",
    "class SimpleRandomGenerator:\n",
    "    def __init__(self):\n",
    "        self.seed = int(time.time())  # Use current time as seed\n",
    "        \n",
    "    def random(self):\n",
    "        self.seed = (self.seed * 1103515245 + 12345) % (2**31)\n",
    "        return self.seed / (2**31 - 1)  # Return a random number between 0 and 1\n",
    "\n",
    "# Define a function to generate random numbers within a range\n",
    "def randrange(a, b):\n",
    "    generator = SimpleRandomGenerator()\n",
    "    return a + (b - a) * generator.random()\n",
    "\n",
    "# Define the function to integrate\n",
    "def f(x, y, z):\n",
    "    return z * (x**2 + y**2)\n",
    "\n",
    "# Define Monte Carlo integration without using external libraries\n",
    "def monte_carlo_integration(a, b, c, n):\n",
    "    integral_sum = 0\n",
    "    volume = (b - a) * (c(b) - 0) * (2 - 0)\n",
    "    \n",
    "    for _ in range(n):\n",
    "        x = randrange(a, b)\n",
    "        y = randrange(0, c(x))\n",
    "        z = randrange(0, 2)\n",
    "        integral_sum = integral_sum + f(x, y, z)\n",
    "    \n",
    "    return (integral_sum / n) * volume\n",
    "\n",
    "# Define the limits and number of samples\n",
    "a, b = 0, 2\n",
    "c = lambda x: x\n",
    "n = 10000000  # Adjust the value of n for desired precision\n",
    "\n",
    "# Perform Monte Carlo integration\n",
    "result = monte_carlo_integration(a, b, c, n)\n",
    "print(\"Approximate integral value using Monte Carlo integration:\", result)\n"
   ]
  },
  {
   "cell_type": "markdown",
   "metadata": {},
   "source": [
    "# Monte Carlo Method"
   ]
  },
  {
   "cell_type": "markdown",
   "metadata": {},
   "source": [
    "* Monte carlo integraion  is numerical solution based on random sampling and approximation. In some situations where it is difficult to find the exact solution so in this case we use Monte-Carlo Integration method.\n",
    "\n",
    "\n",
    "\n",
    "* From theoretical integration, the value is 3.1248 and after using monte carlo integration the value was approx. 7.0134 with samples of 10000000. So in this case we need to increase the random samples for precision further. \n",
    "\n",
    "\n",
    "* But while increasing the precision or sample size, it do have impact on the runtime of the code. The runtime gradually increases when we increase the sample size. \n",
    "\n",
    "\n"
   ]
  },
  {
   "cell_type": "markdown",
   "metadata": {},
   "source": [
    "# To increase the precision we have methods like:-"
   ]
  },
  {
   "cell_type": "markdown",
   "metadata": {},
   "source": [
    "1. We can increase the value of n in the code. \n",
    "\n",
    "\n",
    "2. Stratified Sampling is the other method that can be used to increase the precision further. "
   ]
  }
 ],
 "metadata": {
  "kernelspec": {
   "display_name": "Python 3",
   "language": "python",
   "name": "python3"
  },
  "language_info": {
   "codemirror_mode": {
    "name": "ipython",
    "version": 3
   },
   "file_extension": ".py",
   "mimetype": "text/x-python",
   "name": "python",
   "nbconvert_exporter": "python",
   "pygments_lexer": "ipython3",
   "version": "3.11.2"
  }
 },
 "nbformat": 4,
 "nbformat_minor": 2
}
